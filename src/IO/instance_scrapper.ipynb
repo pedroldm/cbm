{
 "cells": [
  {
   "cell_type": "code",
   "execution_count": 2,
   "id": "a7f6125f",
   "metadata": {},
   "outputs": [],
   "source": [
    "import requests\n",
    "import time\n",
    "import tqdm\n",
    "import re\n",
    "import os"
   ]
  },
  {
   "cell_type": "code",
   "execution_count": 3,
   "id": "411c8c7b",
   "metadata": {},
   "outputs": [],
   "source": [
    "url = \"https://people.brunel.ac.uk/~mastjjb/jeb/orlib/files/\"\n",
    "delay = 5"
   ]
  },
  {
   "cell_type": "code",
   "execution_count": 4,
   "id": "c5215d91",
   "metadata": {},
   "outputs": [
    {
     "name": "stderr",
     "output_type": "stream",
     "text": [
      "100%|██████████| 1016/1016 [04:42<00:00,  3.60it/s]\n"
     ]
    }
   ],
   "source": [
    "root = requests.get(url)\n",
    "files = re.findall(r'\\<td\\>\\s*\\<a\\s*href\\=\\\"([^\"]*)', root.text)[1:]\n",
    "for i in tqdm.tqdm(files, total=len(files)):\n",
    "    if os.path.exists(f\"/home/pedrowsl/cbm/instances/orlib/{i}\"):\n",
    "        continue\n",
    "    instance = requests.get(url + i)\n",
    "    with open(f\"/home/pedrowsl/cbm/instances/orlib/{i}\", \"w\") as f:\n",
    "        f.write(instance.text)\n",
    "    time.sleep(delay)"
   ]
  }
 ],
 "metadata": {
  "kernelspec": {
   "display_name": ".venv",
   "language": "python",
   "name": "python3"
  },
  "language_info": {
   "codemirror_mode": {
    "name": "ipython",
    "version": 3
   },
   "file_extension": ".py",
   "mimetype": "text/x-python",
   "name": "python",
   "nbconvert_exporter": "python",
   "pygments_lexer": "ipython3",
   "version": "3.12.3"
  }
 },
 "nbformat": 4,
 "nbformat_minor": 5
}
