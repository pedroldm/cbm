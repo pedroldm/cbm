{
 "cells": [
  {
   "cell_type": "code",
   "execution_count": 1,
   "id": "96762aea",
   "metadata": {},
   "outputs": [],
   "source": [
    "from instance_runner import InstanceRunner\n",
    "import pandas as pd\n",
    "import json\n",
    "from tqdm import tqdm\n",
    "import os"
   ]
  },
  {
   "cell_type": "code",
   "execution_count": 2,
   "id": "84bd72d6",
   "metadata": {},
   "outputs": [],
   "source": [
    "runs = 1\n",
    "output_folder = \"/home/pedrowsl/cbm/output/01_09/\"\n",
    "output_file = f\"{output_folder}results_01_09.csv\"\n",
    "instances = [\"a1\", \"a2\", \"a3\", \"a4\", \"a5\", \"b1\", \"b2\", \"b3\", \"b4\", \"b5\", \"c1\", \"c2\", \"c3\", \"c4\", \"c5\", \"d1\", \"d2\", \"d3\", \"d4\", \"d5\", \"e1\", \"e2\", \"e3\", \"e4\", \"e5\", \"f1\", \"f2\", \"f3\", \"f4\", \"f5\", \"g1\", \"g2\", \"g3\", \"g4\", \"g5\", \"h1\", \"h2\", \"h3\", \"h4\", \"h5\", \"i1\", \"i2\", \"i3\", \"i4\", \"i5\"]\n",
    "soares = [215, 218, 208, 237, 231, 641, 637, 628, 648, 621, 1259, 1259, 1262, 1270, 1328, 495, 505, 446, 477, 459, 1445, 1434, 1420, 1417, 1465, 3006, 3052, 3051, 3061, 3078, 904, 896, 923, 945, 874, 2820, 2715, 2807, 2636, 2898, 5967, 6001, 5888, 5920, 5920]\n",
    "haddadi = [210, 216, 204, 233, 226, 633, 631, 620, 638, 613, 1248, 1245, 1249, 1256, 1312, 491, 502, 445, 472, 454, 1420, 1406, 1399, 1391, 1440, 2959, 3010, 3006, 3017, 3032, 893, 884, 912, 932, 863, 2721, 2614, 2707, 2538, 2793, 5751, 5795, 5681, 5704, 5708]\n",
    "exact = [210, 216, 204, 233, 226, 632, 629, 619, 638, 613, 1245, 1242, 1247, 1253, 1311, 491, 502, 445, 472, 454, 1412, 1397, 1394, 1386, 1430, 2955, 3002, 2999, 3009, 3021, 893, 884, 912, 932, 763, 2708, 2597, 2688, 2516, 2780, 5714, 5767, 5653, 5674, 5676]\n",
    "parameters = {\n",
    "    \"threads\": 15,\n",
    "    \"tempL\": 15,\n",
    "    \"lkhS\": 5,\n",
    "    \"tempMin\": 0.01,\n",
    "    \"tempMax\": 2.25,\n",
    "    \"constructionBias\": 5.0,\n",
    "    \"MKL\": 1000,\n",
    "    \"PTL\": 20000,\n",
    "    \"tempD\": 3,\n",
    "    \"upType\": 1,\n",
    "    \"tempUpdate\": 7,\n",
    "    \"movementType\": 2,\n",
    "}"
   ]
  },
  {
   "cell_type": "code",
   "execution_count": 3,
   "id": "0f2ca577",
   "metadata": {},
   "outputs": [
    {
     "name": "stderr",
     "output_type": "stream",
     "text": [
      "15it [03:30, 13.45s/it]"
     ]
    },
    {
     "name": "stdout",
     "output_type": "stream",
     "text": [
      "g++ -fopenmp -std=c++17 -O3 -march=native -c src/CBMSol.cpp -o src/CBMSol.o.prd\n",
      "g++ -fopenmp -std=c++17 -O3 -march=native -c src/CBMProblem.cpp -o src/CBMProblem.o.prd\n"
     ]
    },
    {
     "name": "stderr",
     "output_type": "stream",
     "text": [
      "src/CBMProblem.cpp: In lambda function:\n",
      "src/CBMProblem.cpp:129:5: warning: control reaches end of non-void function [-Wreturn-type]\n",
      "  129 |     };\n",
      "      |     ^\n"
     ]
    },
    {
     "name": "stdout",
     "output_type": "stream",
     "text": [
      "g++ -fopenmp -std=c++17 -O3 -march=native -c src/main.cpp -o src/main.o.prd\n",
      "g++ -fopenmp -std=c++17 -O3 -march=native -o main_prd src/CBMSol.o.prd src/CBMProblem.o.prd src/main.o.prd\n",
      "Compilation finished successfully.\n"
     ]
    },
    {
     "name": "stderr",
     "output_type": "stream",
     "text": [
      "30it [10:19, 21.83s/it]"
     ]
    },
    {
     "name": "stdout",
     "output_type": "stream",
     "text": [
      "g++ -fopenmp -std=c++17 -O3 -march=native -c src/CBMSol.cpp -o src/CBMSol.o.prd\n",
      "g++ -fopenmp -std=c++17 -O3 -march=native -c src/CBMProblem.cpp -o src/CBMProblem.o.prd\n"
     ]
    },
    {
     "name": "stderr",
     "output_type": "stream",
     "text": [
      "src/CBMProblem.cpp: In lambda function:\n",
      "src/CBMProblem.cpp:129:5: warning: control reaches end of non-void function [-Wreturn-type]\n",
      "  129 |     };\n",
      "      |     ^\n"
     ]
    },
    {
     "name": "stdout",
     "output_type": "stream",
     "text": [
      "g++ -fopenmp -std=c++17 -O3 -march=native -c src/main.cpp -o src/main.o.prd\n",
      "g++ -fopenmp -std=c++17 -O3 -march=native -o main_prd src/CBMSol.o.prd src/CBMProblem.o.prd src/main.o.prd\n",
      "Compilation finished successfully.\n"
     ]
    },
    {
     "name": "stderr",
     "output_type": "stream",
     "text": [
      "45it [40:31, 54.03s/it] \n"
     ]
    }
   ],
   "source": [
    "file_exists = os.path.isfile(output_file)\n",
    "\n",
    "for instance, s, h, e in tqdm(zip(instances, soares, haddadi, exact)):\n",
    "    for _ in range(runs):\n",
    "        ir = InstanceRunner(\n",
    "            parameters=parameters,\n",
    "            root_path=\"/home/pedrowsl/cbm\",\n",
    "            instance_path=\"/home/pedrowsl/cbm/instances/\" + instance,\n",
    "            header_path=\"/home/pedrowsl/cbm/src/CBMProblem.hpp\",\n",
    "        )\n",
    "        output, elapsed = ir.run()\n",
    "        output = json.loads(output)\n",
    "\n",
    "        df_row = pd.DataFrame([{\n",
    "            'instance': instance,\n",
    "            'exact': e,\n",
    "            'pt': output['final_solution']['cost'],\n",
    "            'lkh': min(x['cost'] for x in output['initial_solutions'] if x['construction'] == 'LKH'),\n",
    "            'haddadi': h,\n",
    "            'soares': s,\n",
    "            'solution': output['final_solution']['solution'],\n",
    "            't(s)': elapsed\n",
    "        }])\n",
    "\n",
    "        with open(f\"{output_folder}{instance}.json\", \"w\") as f:\n",
    "            f.write(json.dumps(output, indent=4)) # pretty printing\n",
    "        df_row.to_csv(output_file, mode='a', header=not file_exists, index=False)\n",
    "        file_exists = True"
   ]
  }
 ],
 "metadata": {
  "kernelspec": {
   "display_name": ".venv",
   "language": "python",
   "name": "python3"
  },
  "language_info": {
   "codemirror_mode": {
    "name": "ipython",
    "version": 3
   },
   "file_extension": ".py",
   "mimetype": "text/x-python",
   "name": "python",
   "nbconvert_exporter": "python",
   "pygments_lexer": "ipython3",
   "version": "3.12.3"
  }
 },
 "nbformat": 4,
 "nbformat_minor": 5
}
