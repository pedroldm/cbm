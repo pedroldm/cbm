{
 "cells": [
  {
   "cell_type": "code",
   "execution_count": 14,
   "id": "96762aea",
   "metadata": {},
   "outputs": [],
   "source": [
    "from instance_runner import InstanceRunner\n",
    "import pandas as pd\n",
    "import json\n",
    "from tqdm import tqdm\n",
    "import os"
   ]
  },
  {
   "cell_type": "code",
   "execution_count": 15,
   "id": "84bd72d6",
   "metadata": {},
   "outputs": [],
   "source": [
    "runs = 10\n",
    "output_file = \"/home/pedro/cbm/output/results.csv\"\n",
    "instances = [\"a1\", \"a2\", \"a3\", \"a4\", \"a5\", \"b1\", \"b2\", \"b3\", \"b4\", \"b5\", \"c1\", \"c2\", \"c3\", \"c4\", \"c5\", \"d1\", \"d2\", \"d3\", \"d4\", \"d5\", \"e1\", \"e2\", \"e3\", \"e4\", \"e5\", \"f1\", \"f2\", \"f3\", \"f4\", \"f5\", \"g1\", \"g2\", \"g3\", \"g4\", \"g5\", \"h1\", \"h2\", \"h3\", \"h4\", \"h5\", \"i1\", \"i2\", \"i3\", \"i4\", \"i5\"]\n",
    "soares = [215, 218, 208, 237, 231, 641, 637, 628, 648, 621, 1259, 1259, 1262, 1270, 1328, 495, 505, 446, 477, 459, 1445, 1434, 1420, 1417, 1465, 3006, 3052, 3051, 3061, 3078, 904, 896, 923, 945, 874, 2820, 2715, 2807, 2636, 2898, 5967, 6001, 5888, 5920, 5920]\n",
    "haddadi = [210, 216, 204, 233, 226, 633, 631, 620, 638, 613, 1248, 1245, 1249, 1256, 1312, 491, 502, 445, 472, 454, 1420, 1406, 1399, 1391, 1440, 2959, 3010, 3006, 3017, 3032, 893, 884, 912, 932, 863, 2721, 2614, 2707, 2538, 2793, 5751, 5795, 5681, 5704, 5708]\n",
    "parameters = {\n",
    "    \"threads\": 4,\n",
    "    \"tempMin\": 0.01,\n",
    "    \"tempMax\": 2.25,\n",
    "    \"constructionBias\": 3.0,\n",
    "    \"MKL\": 400,\n",
    "    \"PTL\": 2000,\n",
    "    \"tempD\": 4,\n",
    "    \"upType\": 1,\n",
    "    \"tempUpdate\": 3,\n",
    "    \"movementType\": 2\n",
    "}"
   ]
  },
  {
   "cell_type": "code",
   "execution_count": null,
   "id": "0f2ca577",
   "metadata": {},
   "outputs": [
    {
     "name": "stderr",
     "output_type": "stream",
     "text": [
      "0it [00:00, ?it/s]"
     ]
    },
    {
     "name": "stderr",
     "output_type": "stream",
     "text": [
      "8it [01:06,  8.94s/it]"
     ]
    }
   ],
   "source": [
    "file_exists = os.path.isfile(output_file)\n",
    "\n",
    "for instance, s, h in tqdm(zip(instances, soares, haddadi)):\n",
    "    for _ in range(runs):\n",
    "        ir = InstanceRunner(\n",
    "            parameters=parameters,\n",
    "            root_path=\"/home/pedro/cbm\",\n",
    "            instance_path=\"/home/pedro/cbm/instances/\" + instance,\n",
    "            header_path=\"/home/pedro/cbm/src/CBMProblem.hpp\",\n",
    "        )\n",
    "        output, elapsed = ir.run()\n",
    "        output = json.loads(output)\n",
    "\n",
    "        df_row = pd.DataFrame([{\n",
    "            'instance': instance,\n",
    "            'cost': output['cost'],\n",
    "            'haddadi': h,\n",
    "            'soares': s,\n",
    "            'solution': output['solution'],\n",
    "            't(s)': elapsed\n",
    "        }])\n",
    "\n",
    "        df_row.to_csv(output_file, mode='a', header=not file_exists, index=False)\n",
    "        file_exists = True"
   ]
  }
 ],
 "metadata": {
  "kernelspec": {
   "display_name": "3.12.1",
   "language": "python",
   "name": "python3"
  },
  "language_info": {
   "codemirror_mode": {
    "name": "ipython",
    "version": 3
   },
   "file_extension": ".py",
   "mimetype": "text/x-python",
   "name": "python",
   "nbconvert_exporter": "python",
   "pygments_lexer": "ipython3",
   "version": "3.12.1"
  }
 },
 "nbformat": 4,
 "nbformat_minor": 5
}
