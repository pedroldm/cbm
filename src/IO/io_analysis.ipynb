{
 "cells": [
  {
   "cell_type": "code",
   "execution_count": 2,
   "id": "96762aea",
   "metadata": {},
   "outputs": [],
   "source": [
    "from instance_runner import InstanceRunner\n",
    "from tqdm import tqdm\n",
    "from validator import Validator\n",
    "\n",
    "import pandas as pd\n",
    "import json\n",
    "import os"
   ]
  },
  {
   "cell_type": "code",
   "execution_count": null,
   "id": "84bd72d6",
   "metadata": {},
   "outputs": [],
   "source": [
    "runs = 1\n",
    "output_folder = \"/home/pedrowsl/cbm/output/10_09/\"\n",
    "comparison_file = \"/home/pedrowsl/cbm/comparison.csv\"\n",
    "output_file = f\"{output_folder}results_10_09.csv\"\n",
    "instances = [\"a1\"]\n",
    "#instances = [\"scpa1\", \"scpa2\", \"scpa3\", \"scpa4\", \"scpa5\"]\n",
    "parameters = {\n",
    "    \"threads\": 15,\n",
    "    \"tempL\": 15,\n",
    "    \"lkhS\": 5,\n",
    "    \"tempMin\": 0.01,\n",
    "    \"tempMax\": 2.25,\n",
    "    \"constructionBias\": 5.0,\n",
    "    \"MKL\": 800,\n",
    "    \"PTL\": 5000,\n",
    "    \"tempD\": 3,\n",
    "    \"upType\": 1,\n",
    "    \"tempUpdate\": 7,\n",
    "    \"movementType\": 2,\n",
    "    \"selectionBias\": 1,\n",
    "    \"lkhMaxTime\": 120\n",
    "}"
   ]
  },
  {
   "cell_type": "code",
   "execution_count": 4,
   "id": "68b94d3c",
   "metadata": {},
   "outputs": [],
   "source": [
    "def get_comparison(df: pd.DataFrame, key: str, instance: str):\n",
    "    return df.loc[df[\"Instance\"] == instance, key].iloc[0]"
   ]
  },
  {
   "cell_type": "code",
   "execution_count": null,
   "id": "0f2ca577",
   "metadata": {},
   "outputs": [
    {
     "name": "stderr",
     "output_type": "stream",
     "text": [
      "  0%|          | 0/45 [00:00<?, ?it/s]"
     ]
    },
    {
     "name": "stdout",
     "output_type": "stream",
     "text": [
      "g++ -fopenmp -std=c++17 -O3 -march=native -c src/CBMSol.cpp -o src/CBMSol.o.prd\n",
      "g++ -fopenmp -std=c++17 -O3 -march=native -c src/CBMProblem.cpp -o src/CBMProblem.o.prd\n"
     ]
    },
    {
     "name": "stderr",
     "output_type": "stream",
     "text": [
      "src/CBMProblem.cpp: In lambda function:\n",
      "src/CBMProblem.cpp:152:5: warning: control reaches end of non-void function [-Wreturn-type]\n",
      "  152 |     };\n",
      "      |     ^\n"
     ]
    },
    {
     "name": "stdout",
     "output_type": "stream",
     "text": [
      "g++ -fopenmp -std=c++17 -O3 -march=native -c src/main.cpp -o src/main.o.prd\n",
      "g++ -fopenmp -std=c++17 -O3 -march=native -o main_prd src/CBMSol.o.prd src/CBMProblem.o.prd src/main.o.prd\n",
      "Compilation finished successfully.\n"
     ]
    },
    {
     "name": "stderr",
     "output_type": "stream",
     "text": [
      " 22%|██▏       | 10/45 [00:45<02:13,  3.81s/it]"
     ]
    }
   ],
   "source": [
    "comparison = pd.read_csv(\"comparison.csv\")\n",
    "comparison = comparison.fillna(0)\n",
    "comparison[[\"Exact\", \"Haddadi\", \"Soares\"]] = comparison[[\"Exact\", \"Haddadi\", \"Soares\"]].astype(int)\n",
    "\n",
    "file_exists = os.path.isfile(output_file)\n",
    "\n",
    "for instance in tqdm(instances):\n",
    "    v = Validator(f\"/home/pedrowsl/cbm/instances/{instance}\")\n",
    "    for _ in range(runs):\n",
    "        ir = InstanceRunner(\n",
    "            parameters=parameters,\n",
    "            root_path=\"/home/pedrowsl/cbm\",\n",
    "            instance_path=\"/home/pedrowsl/cbm/instances/\" + instance,\n",
    "            header_path=\"/home/pedrowsl/cbm/src/CBMProblem.hpp\",\n",
    "        )\n",
    "        output, elapsed = ir.run()\n",
    "        output = json.loads(output)\n",
    "\n",
    "        valid = v.validate(output['final_solution']['solution'], output['final_solution']['cost'])\n",
    "        if not valid:\n",
    "            raise Exception(f\"Invalid S {output['final_solution']['solution']} and cost {output['final_solution']['cost']} for instance {instance}\")\n",
    "\n",
    "        df_row = pd.DataFrame([{\n",
    "            'instance': instance,\n",
    "            'exact': get_comparison(comparison, \"Exact\", instance),\n",
    "            'pt': output['final_solution']['cost'],\n",
    "            'lkh': min(x['cost'] for x in output['initial_solutions'] if x['construction'] == 'LKH'),\n",
    "            'haddadi': get_comparison(comparison, \"Haddadi\", instance),\n",
    "            'soares': get_comparison(comparison, \"Soares\", instance),\n",
    "            'solution': output['final_solution']['solution'],\n",
    "            'valid': valid,\n",
    "            't(s)': elapsed\n",
    "        }])\n",
    "\n",
    "        with open(f\"{output_folder}{instance}.json\", \"w\") as f:\n",
    "            f.write(json.dumps(output, indent=4))\n",
    "        df_row.to_csv(output_file, mode='a', header=not file_exists, index=False)\n",
    "        file_exists = True"
   ]
  }
 ],
 "metadata": {
  "kernelspec": {
   "display_name": ".venv",
   "language": "python",
   "name": "python3"
  },
  "language_info": {
   "codemirror_mode": {
    "name": "ipython",
    "version": 3
   },
   "file_extension": ".py",
   "mimetype": "text/x-python",
   "name": "python",
   "nbconvert_exporter": "python",
   "pygments_lexer": "ipython3",
   "version": "3.12.3"
  }
 },
 "nbformat": 4,
 "nbformat_minor": 5
}
